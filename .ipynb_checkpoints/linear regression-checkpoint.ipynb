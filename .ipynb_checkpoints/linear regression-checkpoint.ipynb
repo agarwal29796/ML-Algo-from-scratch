{
 "cells": [
  {
   "cell_type": "code",
   "execution_count": 169,
   "metadata": {
    "collapsed": false
   },
   "outputs": [],
   "source": [
    "import sys\n",
    "import numpy as np\n",
    "import pandas as pd\n",
    "import matplotlib.pyplot as plt \n",
    "from sklearn.metrics import r2_score"
   ]
  },
  {
   "cell_type": "code",
   "execution_count": 170,
   "metadata": {
    "collapsed": true
   },
   "outputs": [],
   "source": [
    "def encoder(df):\n",
    "    maps = None\n",
    "    for col in df.columns:\n",
    "        if df[col].dtype == 'object':\n",
    "            labels = df[col].astype('category').cat.categories.tolist()\n",
    "            replace_map_comp = {col : {k: v for k,v in zip(labels,list(range(0,len(labels))))}}\n",
    "            maps = replace_map_comp\n",
    "            df.replace(replace_map_comp, inplace=True)\n",
    "            df[col].astype('float')\n",
    "    return df , maps"
   ]
  },
  {
   "cell_type": "code",
   "execution_count": 171,
   "metadata": {
    "collapsed": true
   },
   "outputs": [],
   "source": [
    "def normalize(df):\n",
    "    mean_df = df.mean()\n",
    "    sd_df = df.std()\n",
    "    df = df.sub(mean_df,  axis =1)\n",
    "    df = np.divide(df, list(sd_df))\n",
    "    return df"
   ]
  },
  {
   "cell_type": "code",
   "execution_count": 172,
   "metadata": {
    "collapsed": true
   },
   "outputs": [],
   "source": [
    "def import_data(filename):\n",
    "    balance_data = pd.read_csv( filename ,  sep= ',')\n",
    "    balance_data = balance_data.drop(balance_data.columns[0], axis = 1) \n",
    "    balance_data , maps = encoder(balance_data)\n",
    "\n",
    "    balance_data = balance_data.sample(frac=1).reset_index(drop=True)\n",
    "\n",
    "    train_data = balance_data.iloc[:int(balance_data.shape[0]*0.8),:]\n",
    "    validation_data = balance_data.iloc[int(balance_data.shape[0]*0.8) + 1:,:]\n",
    "    train_data.columns = balance_data.columns\n",
    "    validation_data.columns  = balance_data.columns\n",
    "    return train_data , validation_data , maps"
   ]
  },
  {
   "cell_type": "code",
   "execution_count": 173,
   "metadata": {
    "collapsed": false
   },
   "outputs": [],
   "source": [
    "train_data,val_data,maps = import_data(\"admission/data.csv\")"
   ]
  },
  {
   "cell_type": "code",
   "execution_count": 174,
   "metadata": {
    "collapsed": true
   },
   "outputs": [],
   "source": [
    "def mean_square_error(a,  b):\n",
    "    a = np.array(a)\n",
    "    b = np.array(b)\n",
    "    return np.sum(np.square(np.subtract(a,b)))/float(a.shape[0])\n",
    "    "
   ]
  },
  {
   "cell_type": "code",
   "execution_count": 175,
   "metadata": {
    "collapsed": true
   },
   "outputs": [],
   "source": [
    "def mean_absolute_error(a,b):\n",
    "    a = np.array(a)\n",
    "    b = np.array(b)\n",
    "    return np.sum(np.absolute(np.subtract(a,b)))/float(a.shape[0])"
   ]
  },
  {
   "cell_type": "code",
   "execution_count": 176,
   "metadata": {
    "collapsed": true
   },
   "outputs": [],
   "source": [
    "def mean_absolute_percentage_error(a,b):\n",
    "    a = np.array(a)\n",
    "    b = np.array(b)\n",
    "    return np.sum(np.absolute(np.divide(np.subtract(a,b),a)))/float(a.shape[0])"
   ]
  },
  {
   "cell_type": "code",
   "execution_count": 182,
   "metadata": {
    "collapsed": false
   },
   "outputs": [],
   "source": [
    "class linear_regression(object):\n",
    "    def __init__(self):\n",
    "        beta = []\n",
    "    def fit(self ,train_X , train_Y):\n",
    "        train_X = np.array(train_X)\n",
    "        train_Y = np.array(train_Y)\n",
    "        train_X = np.insert(train_X, 0, values=1, axis=1)\n",
    "        self.beta = np.dot(np.dot(np.linalg.inv(np.dot(train_X.T, train_X)), train_X.T), train_Y)\n",
    "    def predict(self, val_X):\n",
    "        val_X = np.array(val_X)\n",
    "        val_X = np.insert(val_X , 0 , values =1, axis =1)\n",
    "        return np.dot(val_X,self.beta)"
   ]
  },
  {
   "cell_type": "code",
   "execution_count": 183,
   "metadata": {
    "collapsed": false
   },
   "outputs": [],
   "source": [
    "def validate_model(train_data,  val_data):\n",
    "    train_X = normalize(train_data.iloc[:,:len(train_data.columns)-1])\n",
    "    train_Y = train_data.iloc[:,-1]\n",
    "    val_X = normalize(val_data.iloc[:,:len(val_data.columns)-1])\n",
    "    val_Y =  val_data.iloc[:,-1]\n",
    "    model = linear_regression()\n",
    "    model.fit(train_X , train_Y)\n",
    "    prediction = model.predict(val_X)\n",
    "    mse = mean_square_error(prediction,val_Y)\n",
    "    mae = mean_absolute_error(prediction , val_Y)\n",
    "    mape = mean_absolute_percentage_error(prediction, val_Y)\n",
    "    return mse , mae , mape,np.array(val_Y), prediction"
   ]
  },
  {
   "cell_type": "code",
   "execution_count": 184,
   "metadata": {
    "collapsed": false
   },
   "outputs": [
    {
     "name": "stdout",
     "output_type": "stream",
     "text": [
      "mean square error = 0.002184\n",
      "mean absolute error = 0.034683\n",
      "mean absolute percentage error = 0.050690\n"
     ]
    }
   ],
   "source": [
    "mse , mae , mape ,val_Y ,prediction = validate_model(train_data , val_data)\n",
    "print(\"mean square error = %f\"%(mse))\n",
    "print(\"mean absolute error = %f\"%(mae))\n",
    "print(\"mean absolute percentage error = %f\"%(mape))\n"
   ]
  },
  {
   "cell_type": "markdown",
   "metadata": {},
   "source": [
    "It doesn't make sense to compare MSE and MAE to each other.  They only make sense in comparison to the same measure of error: you can compare MSE for Method 1 to MSE for Method 2, or MAE for Method 1 to MAE for Method 2, but you can't say MAE is better than MSE for Method 1 because it's smaller.\n",
    "<b>MAE</b> : What is important about this metric is that it penalizes huge errors that not as that badly as MSE does. Thus, it’s not that sensitive to outliers as mean square error. <br>\n",
    "<b>MSE</b> :  Useful if we have unexpected values that we should care about. Vey high or low value that we should pay attention.<br>\n",
    "<b> MAPE  </b> : Mean absolute percentage error is commonly used as a loss function for regression problems and in model evaluation, because of its very intuitive interpretation in terms of relative error.\n",
    "\n"
   ]
  },
  {
   "cell_type": "markdown",
   "metadata": {},
   "source": [
    "# Measures of Model Adequacy\n",
    " "
   ]
  },
  {
   "cell_type": "markdown",
   "metadata": {},
   "source": [
    "The following sections present some techniques that can be used to check the appropriateness of the model for the given data. These techniques help to determine if any of the model assumptions have been violated."
   ]
  },
  {
   "cell_type": "markdown",
   "metadata": {},
   "source": [
    "## important assumptions in regression analysis:\n",
    "1. Relationship between the outcomes and the predictors is linear.<br>\n",
    "2. Error term  has mean almost equal to zero for each value of outcome.<br>\n",
    "3. Error term has constant variance.\n",
    "4. Errors are uncorrelated.\n",
    "5. Errors are normally distributed or we have an adequate sample size to rely on large sample theory.\n"
   ]
  },
  {
   "cell_type": "markdown",
   "metadata": {},
   "source": [
    "## 1. Residuals vs Fitted plot"
   ]
  },
  {
   "cell_type": "markdown",
   "metadata": {},
   "source": [
    "This plot shows if residuals have non-linear patterns. There could be a non-linear relationship between predictor variables and an outcome variable and the pattern could show up in this plot if the model doesn’t capture the non-linear relationship. If you find equally spread residuals around a horizontal line without distinct patterns, that is a good indication you don’t have non-linear relationships.\n",
    "\n"
   ]
  },
  {
   "cell_type": "code",
   "execution_count": 194,
   "metadata": {
    "collapsed": false
   },
   "outputs": [
    {
     "data": {
      "image/png": "[encoded data removed]",
      "text/plain": [
       "<Figure size 432x288 with 1 Axes>"
      ]
     },
     "metadata": {},
     "output_type": "display_data"
    }
   ],
   "source": [
    "import seaborn as sns\n",
    "sns.set(style=\"whitegrid\")\n",
    "\n",
    "# Plot the residuals after fitting a linear model\n",
    "sns.residplot(prediction, prediction - val_Y, lowess=True, color=\"g\")\n",
    "plt.xlabel(\"Fitted Values\")\n",
    "plt.ylabel(\"Residuals\")\n",
    "plt.show()"
   ]
  },
  {
   "cell_type": "markdown",
   "metadata": {},
   "source": [
    "Looking at the Residuals vs Fitted plot, we see that the gree line (which is just a scatterplot smoother, showing the average value of the residuals at each value of fitted value) is almost flat. This tells us that there is no discernible non-linear trend to the residuals. Furthermore, the residuals appear to be equally variable across the entire range of fitted values. There is no indication of non-constant variance."
   ]
  },
  {
   "cell_type": "markdown",
   "metadata": {},
   "source": [
    "## 2. Coefficient of Determination (R2)"
   ]
  },
  {
   "cell_type": "markdown",
   "metadata": {},
   "source": [
    "The coefficient of determination is a measure of the amount of variability in the data accounted for by the regression model.<br>\n",
    "The coefficient of determination is the ratio of the regression sum of squares to the total sum of squares.\n",
    "\n",
    "$$ R^2 =  \\frac{\\sum_{i=1}^{n} (y_{i} - y_{mean})^2} {\\sum_{i=1}^{n} (y_{i_{predicted}} - y_{mean})^2} $$\t"
   ]
  },
  {
   "cell_type": "code",
   "execution_count": 198,
   "metadata": {
    "collapsed": false
   },
   "outputs": [
    {
     "name": "stdout",
     "output_type": "stream",
     "text": [
      "0.8942946029125526\n"
     ]
    }
   ],
   "source": [
    "from sklearn.metrics import r2_score\n",
    "print(r2_score(val_Y , prediction))"
   ]
  },
  {
   "cell_type": "markdown",
   "metadata": {},
   "source": [
    " Therefore, 89% of the variability in the yield data is explained by the regression model, indicating a very good fit of the model."
   ]
  }
 ],
 "metadata": {
  "anaconda-cloud": {},
  "kernelspec": {
   "display_name": "Python [default]",
   "language": "python",
   "name": "python2"
  },
  "language_info": {
   "codemirror_mode": {
    "name": "ipython",
    "version": 2
   },
   "file_extension": ".py",
   "mimetype": "text/x-python",
   "name": "python",
   "nbconvert_exporter": "python",
   "pygments_lexer": "ipython2",
   "version": "2.7.12"
  }
 },
 "nbformat": 4,
 "nbformat_minor": 1
}

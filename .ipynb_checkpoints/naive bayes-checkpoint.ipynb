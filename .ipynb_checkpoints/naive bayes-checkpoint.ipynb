{
 "cells": [
  {
   "cell_type": "code",
   "execution_count": 66,
   "metadata": {
    "collapsed": true
   },
   "outputs": [],
   "source": [
    "import sys\n",
    "import numpy as np\n",
    "import pandas as pd\n",
    "import matplotlib.pyplot as plt "
   ]
  },
  {
   "cell_type": "code",
   "execution_count": 67,
   "metadata": {
    "collapsed": true
   },
   "outputs": [],
   "source": [
    "def encoder(df):\n",
    "    maps = None\n",
    "    for col in df.columns:\n",
    "        if df[col].dtype == 'object':\n",
    "            labels = df[col].astype('category').cat.categories.tolist()\n",
    "            replace_map_comp = {col : {k: v for k,v in zip(labels,list(range(0,len(labels))))}}\n",
    "            maps = replace_map_comp\n",
    "            df.replace(replace_map_comp, inplace=True)\n",
    "            df[col].astype('float')\n",
    "    return df , maps"
   ]
  },
  {
   "cell_type": "code",
   "execution_count": 68,
   "metadata": {
    "collapsed": true
   },
   "outputs": [],
   "source": [
    "def import_data(filename):\n",
    "    balance_data = pd.read_csv( filename ,  sep= ',')\n",
    "    attrq = ['a',  'b' , 'c' , 'd' , 'e' , 'f' , 'g' , 'h' , 'i' , 'j' , 'k',  'l',  'm', 'n']\n",
    "    balance_data.columns =  attrq\n",
    "    balance_data , maps = encoder(balance_data)\n",
    "    balance_data = balance_data.sample(frac=1).reset_index(drop=True)\n",
    "    balance_data = balance_data[['a',  'b' , 'c' , 'd' , 'e' , 'f' , 'g' , 'h' , 'i'  , 'k',  'l',  'm', 'n',  'j']]\n",
    "    \n",
    "    train_data = balance_data.iloc[:int(balance_data.shape[0]*0.8),:]\n",
    "    validation_data = balance_data.iloc[int(balance_data.shape[0]*0.8) + 1:,:]\n",
    "    \n",
    "    train_data.columns = balance_data.columns\n",
    "    validation_data.columns = balance_data.columns\n",
    "    \n",
    "    return train_data , validation_data , maps"
   ]
  },
  {
   "cell_type": "code",
   "execution_count": 69,
   "metadata": {
    "collapsed": false
   },
   "outputs": [],
   "source": [
    "train_data, val_data , maps = import_data(\"loan/data.csv\")\n"
   ]
  },
  {
   "cell_type": "code",
   "execution_count": 70,
   "metadata": {
    "collapsed": false
   },
   "outputs": [
    {
     "name": "stdout",
     "output_type": "stream",
     "text": [
      "      a   b   c    d      e  f    g  h    i  k  l  m  n  j\n",
      "0  3525  58  33   15  94583  4  0.9  2    0  0  0  0  0  0\n",
      "1  2777  46  20  140  93106  2  6.3  1  380  0  0  1  1  0\n",
      "2  3881  48  24   25  90024  4  0.5  2    0  0  0  0  0  0\n",
      "3   389  54  30  100  95814  4  3.4  3    0  0  0  0  0  1\n",
      "4   949  30   4   81  92037  1  2.9  3  259  0  0  1  1  0\n"
     ]
    }
   ],
   "source": [
    "print(train_data.head())"
   ]
  },
  {
   "cell_type": "code",
   "execution_count": 77,
   "metadata": {
    "collapsed": false
   },
   "outputs": [],
   "source": [
    "class GBayes(object):\n",
    "    def __init__():\n",
    "        mean_0 = []\n",
    "        sd_0 = []\n",
    "        mean_1 = []\n",
    "        sd_1 = []\n",
    "        prob_0 = 0 \n",
    "        prob_1 = 0 \n",
    "        \n",
    "    def fit(self , train_X,  train_Y):\n",
    "        df = train_X.assign(target = train_Y)\n",
    "        df0 =  df[df['target'] == 0]\n",
    "        df1 = df[df['target'] == 1]\n",
    "        self.mean_0 = list(df0.mean())\n",
    "        self.sd_0 = list(df0.std())\n",
    "        self.mean_1  = list(df1.mean())\n",
    "        self.sd_1 = list(df1.std())\n",
    "        del self.mean_0[-1]\n",
    "        del self.sd_0[-1]\n",
    "        del self.mean_1[-1]\n",
    "        del self.sd_1[-1]\n",
    "        self.prob_0 = float(df0.shape[0])/df.shape[0]\n",
    "        self.prob_1 = float(df1.shape[0])/df.shape[0]\n",
    "\n",
    "    def predict(self, val_X):\n",
    "        val_0 = val_X.copy()\n",
    "        val_1 = val_X.copy()\n",
    "        val_0 = np.square(val_0.sub(list(self.mean_0),axis = \"columns\"))\n",
    "        val_1 = np.square(val_1.sub(self.mean_1,  axis = \"columns\"))\n",
    "        \n",
    "        val_0 = val_0.mul(-1)\n",
    "        val_1 = val_1.mul(-1)\n",
    "        \n",
    "        val_0 = np.exp(np.divide(val_0,  [float(i*i) for i  in self.sd_0]))\n",
    "        val_1 = np.exp(np.divide(val_1 , [float(i*i) for i  in self.sd_1]))\n",
    "        val_0 = np.divide(val_0, [i*4.4429 for i  in self.sd_0])\n",
    "        val_1 = np.divide(val_1,  [i*4.4429 for i  in self.sd_1])\n",
    "        val_0 = np.prod(val_0,  axis=1)*self.prob_0\n",
    "        val_1 = np.prod(val_1 , axis=1)*self.prob_1\n",
    "\n",
    "        \n",
    "        prediction = []\n",
    "        for i in range(val_0.shape[0]):\n",
    "            if val_0.iloc[i,] > val_1.iloc[i,]:prediction.append(0)\n",
    "            else : prediction.append(1)\n",
    "                \n",
    "        return prediction\n",
    "        "
   ]
  },
  {
   "cell_type": "code",
   "execution_count": 72,
   "metadata": {
    "collapsed": true
   },
   "outputs": [],
   "source": [
    "def validate(train_df, val_df):\n",
    "        \n",
    "    train_X = train_df.iloc[:,:len(train_df.columns)-1]\n",
    "    train_Y = train_df.iloc[:,-1]\n",
    "    val_X = val_df.iloc[:,:len(val_df.columns) -1]\n",
    "    val_Y = val_df.iloc[:,-1]\n",
    "    \n",
    "    model = GBayes()\n",
    "    model.fit(train_X , train_Y)\n",
    "    prediction = model.predict(val_X)\n",
    "    \n",
    "    conf_matrix = [[0]*2 for i  in range(2)]\n",
    "    report  = None\n",
    "    for i in range(len(prediction)):\n",
    "        conf_matrix[val_Y.iloc[i,]][prediction[i]] += 1\n",
    "    \n",
    "    return conf_matrix\n",
    "    "
   ]
  },
  {
   "cell_type": "code",
   "execution_count": 73,
   "metadata": {
    "collapsed": false
   },
   "outputs": [
    {
     "name": "stdout",
     "output_type": "stream",
     "text": [
      "[[740, 89], [17, 53]]\n",
      "('acccuracy : ', 0.882091212458287)\n",
      "precision : 0.977541641292\n",
      "recall : 0.892640660265\n",
      "F1 score : 0.933164018709\n"
     ]
    }
   ],
   "source": [
    "conf_matrix = validate(train_data , val_data)\n",
    "print(conf_matrix)\n",
    "tp = conf_matrix[0][0]\n",
    "tn = conf_matrix[1][1]\n",
    "fp = conf_matrix[1][0]\n",
    "fn = conf_matrix[0][1]\n",
    "tn = conf_matrix[1][1]\n",
    "total = tp + tn + fp + fn\n",
    "precision  = float(tp)/(tp + fp+0.001)\n",
    "recall = float(tp)/(tp + fn +0.001)\n",
    "f1_score = 2*precision*recall/(precision + recall)\n",
    "\n",
    "print(\"acccuracy : \" , float(tp + tn)/total)\n",
    "print(\"precision : \"+ str(precision))\n",
    "print(\"recall : \"+ str(recall))\n",
    "print(\"F1 score : \"+ str(f1_score))"
   ]
  },
  {
   "cell_type": "code",
   "execution_count": 74,
   "metadata": {
    "collapsed": true
   },
   "outputs": [],
   "source": [
    "from sklearn.naive_bayes import GaussianNB\n",
    "from sklearn.metrics import confusion_matrix\n",
    "from sklearn.metrics import classification_report\n",
    "\n",
    "def validate_using_sklearn(train_df , val_df):\n",
    "    \n",
    "    train_X = train_df.iloc[:,:len(train_df.columns)-1]\n",
    "    train_Y = train_df.iloc[:,-1]\n",
    "    val_X = val_df.iloc[:,:len(val_df.columns) -1]\n",
    "    val_Y = val_df.iloc[:,-1]\n",
    "    \n",
    "    model = GaussianNB()\n",
    "    model.fit(train_X,train_Y)\n",
    "    prediction = model.predict(val_X)\n",
    "    \n",
    "    return confusion_matrix(val_Y , prediction) , classification_report(val_Y,prediction)\n"
   ]
  },
  {
   "cell_type": "code",
   "execution_count": 75,
   "metadata": {
    "collapsed": false
   },
   "outputs": [],
   "source": [
    "cm,cr = validate_using_sklearn(train_data, val_data)"
   ]
  },
  {
   "cell_type": "code",
   "execution_count": 76,
   "metadata": {
    "collapsed": false
   },
   "outputs": [
    {
     "name": "stdout",
     "output_type": "stream",
     "text": [
      "[[762  67]\n",
      " [ 28  42]]\n",
      "             precision    recall  f1-score   support\n",
      "\n",
      "          0       0.96      0.92      0.94       829\n",
      "          1       0.39      0.60      0.47        70\n",
      "\n",
      "avg / total       0.92      0.89      0.90       899\n",
      "\n"
     ]
    }
   ],
   "source": [
    "print(cm)\n",
    "print(cr)"
   ]
  },
  {
   "cell_type": "code",
   "execution_count": null,
   "metadata": {
    "collapsed": true
   },
   "outputs": [],
   "source": []
  }
 ],
 "metadata": {
  "anaconda-cloud": {},
  "kernelspec": {
   "display_name": "Python [default]",
   "language": "python",
   "name": "python2"
  },
  "language_info": {
   "codemirror_mode": {
    "name": "ipython",
    "version": 2
   },
   "file_extension": ".py",
   "mimetype": "text/x-python",
   "name": "python",
   "nbconvert_exporter": "python",
   "pygments_lexer": "ipython2",
   "version": "2.7.12"
  }
 },
 "nbformat": 4,
 "nbformat_minor": 1
}
